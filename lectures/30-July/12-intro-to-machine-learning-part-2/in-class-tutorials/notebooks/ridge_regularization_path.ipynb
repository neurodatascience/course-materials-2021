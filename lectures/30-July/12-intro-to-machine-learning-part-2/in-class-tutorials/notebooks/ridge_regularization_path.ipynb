{
 "cells": [
  {
   "cell_type": "code",
   "execution_count": null,
   "id": "functional-console",
   "metadata": {},
   "outputs": [],
   "source": [
    "import numpy as np\n",
    "from sklearn.linear_model import Ridge\n",
    "import pandas as pd\n",
    "import seaborn as sns\n",
    "from matplotlib import pyplot as plt\n",
    "import matplotlib as mpl"
   ]
  },
  {
   "cell_type": "code",
   "execution_count": null,
   "id": "numerical-adrian",
   "metadata": {},
   "outputs": [],
   "source": [
    "mpl.rc(\"text\", usetex=True)\n",
    "mpl.rc(r\"\\usepackage{DejaVuSans} \\usepackage{eulervm}\")"
   ]
  },
  {
   "cell_type": "code",
   "execution_count": null,
   "id": "informational-fellowship",
   "metadata": {
    "lines_to_next_cell": 2
   },
   "outputs": [],
   "source": [
    "try:\n",
    "    rng = np.random.default_rng(0)\n",
    "except AttributeError:\n",
    "    rng = np.random.RandomState(0)\n",
    "coef = np.zeros(50)\n",
    "coef[:3] = [10, -10, 20]\n",
    "alpha_grid = np.logspace(-2, 3, 50)\n",
    "n_simu = 100\n",
    "all_estimated_coef = []\n",
    "all_alpha = []\n",
    "all_scores = []\n",
    "all_train_scores = []\n",
    "noise = 10\n",
    "for i in range(n_simu):\n",
    "    X = rng.normal(size=(80, len(coef)))\n",
    "    y = X.dot(coef) + rng.normal(size=len(X)) * noise\n",
    "    n_train = len(X) // 2\n",
    "    X_train, y_train = X[:n_train], y[:n_train]\n",
    "    X_test, y_test = X[n_train:], y[n_train:]\n",
    "    for j, alpha in enumerate(alpha_grid):\n",
    "        model = Ridge(alpha=alpha).fit(X_train, y_train)\n",
    "        all_estimated_coef.append(model.coef_)\n",
    "        all_alpha.append(alpha)\n",
    "        all_scores.append(model.score(X_test, y_test))\n",
    "        all_train_scores.append(model.score(X_train, y_train))"
   ]
  },
  {
   "cell_type": "code",
   "execution_count": null,
   "id": "interim-investing",
   "metadata": {},
   "outputs": [],
   "source": [
    "df = pd.DataFrame(all_estimated_coef)\n",
    "df[\"alpha\"] = all_alpha\n",
    "df[\"score\"] = all_scores\n",
    "df[\"train_score\"] = all_train_scores\n",
    "fig, axes = plt.subplots(\n",
    "    5,\n",
    "    1,\n",
    "    sharex=True,\n",
    "    sharey=False,\n",
    "    figsize=(4, 8),\n",
    "    gridspec_kw=dict(height_ratios=[2, 1, 1, 1, 1]),\n",
    ")\n",
    "for c, (ax, true_coef) in enumerate(zip(axes[1:], coef)):\n",
    "    sns.lineplot(data=df, x=\"alpha\", y=c, ci=\"sd\", ax=ax)\n",
    "    ax.axhline(true_coef, linestyle=\"--\", color=\"k\")\n",
    "    ax.axhline(0, linestyle=\"-\", color=\"k\")\n",
    "    y0, y1 = ax.get_ylim()\n",
    "    d = (y1 - y0) * 0.1\n",
    "    ax.set_ylim(y0 - d, y1 + d)\n",
    "    ax.set_title(rf\"$\\beta_{c + 1}$\")\n",
    "    ax.set_ylabel(\"\")\n",
    "    # sns.lineplot(data=df, x=\"alpha\", y=c, ax=ax)\n",
    "    # ax.set_xscale(\"log\")\n",
    "sns.lineplot(data=df, x=\"alpha\", y=\"score\", ax=axes[0], ci=\"sd\")\n",
    "sns.lineplot(data=df, x=\"alpha\", y=\"train_score\", ax=axes[0], ci=\"sd\")\n",
    "axes[0].legend([r\"$R^2$ on test set\", r\"$R^2$ on train set\"], frameon=False)\n",
    "axes[0].set_title(r\"$R^2$ score\")\n",
    "axes[0].set_ylabel(\"\")\n",
    "axes[0].set_xscale(\"log\")\n",
    "# axes[0].set_ylim(-.1, 1.1)\n",
    "axes[-1].set_xlabel(r\"$\\lambda$\")\n",
    "# axes[1].legend([r\"$\\hat{\\beta}$\", r\"$\\beta$\"], frameon=False)\n",
    "axes[1].legend([\"estimate\", \"true coef\"], frameon=False, loc=\"center right\")\n",
    "axes[-1].text(\n",
    "    0,\n",
    "    -0.35,\n",
    "    r\"$\\leftarrow$ less regularized\",\n",
    "    transform=axes[-1].transAxes,\n",
    "    ha=\"left\",\n",
    ")\n",
    "axes[-1].text(\n",
    "    1,\n",
    "    -0.35,\n",
    "    r\"more regularized $\\rightarrow$\",\n",
    "    transform=axes[-1].transAxes,\n",
    "    ha=\"right\",\n",
    ")\n",
    "plt.tight_layout()\n",
    "fig.savefig(\n",
    "    \"ridge_regularization_path.pdf\", bbox_inches=\"tight\", transparent=True\n",
    ")"
   ]
  }
 ],
 "metadata": {
  "jupytext": {
   "cell_metadata_filter": "-all",
   "main_language": "python",
   "notebook_metadata_filter": "-all"
  }
 },
 "nbformat": 4,
 "nbformat_minor": 5
}
