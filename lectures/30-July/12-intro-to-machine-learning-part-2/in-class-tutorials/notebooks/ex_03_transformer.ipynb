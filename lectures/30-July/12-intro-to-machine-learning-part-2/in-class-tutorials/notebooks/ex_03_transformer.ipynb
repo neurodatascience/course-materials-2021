{
 "cells": [
  {
   "cell_type": "code",
   "execution_count": null,
   "id": "described-spank",
   "metadata": {},
   "outputs": [],
   "source": [
    "import numpy as np\n",
    "from sklearn.preprocessing import StandardScaler"
   ]
  },
  {
   "cell_type": "code",
   "execution_count": null,
   "id": "following-meter",
   "metadata": {},
   "outputs": [],
   "source": [
    "X = np.asarray([[0, 1, -10], [0, -1, 0], [1, 0, 10], [1, 0, 0]])\n",
    "print(f\"X:\\n{X}\\n\")"
   ]
  },
  {
   "cell_type": "code",
   "execution_count": null,
   "id": "ruled-chassis",
   "metadata": {},
   "outputs": [],
   "source": [
    "X_scaled = \"???\""
   ]
  },
  {
   "cell_type": "code",
   "execution_count": null,
   "id": "perfect-homework",
   "metadata": {},
   "outputs": [],
   "source": [
    "print(f\"X scaled:\\n{X_scaled}\\n\")\n",
    "print(f\"mean: {X_scaled.mean(axis=0)}\\nstd: {X_scaled.std(axis=0)}\")"
   ]
  }
 ],
 "metadata": {
  "jupytext": {
   "cell_metadata_filter": "-all",
   "main_language": "python",
   "notebook_metadata_filter": "-all"
  }
 },
 "nbformat": 4,
 "nbformat_minor": 5
}
