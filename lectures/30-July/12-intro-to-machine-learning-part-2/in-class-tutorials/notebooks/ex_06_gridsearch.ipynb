{
 "cells": [
  {
   "cell_type": "code",
   "execution_count": null,
   "id": "polar-officer",
   "metadata": {},
   "outputs": [],
   "source": [
    "import numpy as np\n",
    "from sklearn.datasets import make_classification\n",
    "from sklearn.linear_model import LogisticRegression\n",
    "from sklearn.model_selection import cross_validate, GridSearchCV\n",
    "from matplotlib import pyplot as plt"
   ]
  },
  {
   "cell_type": "code",
   "execution_count": null,
   "id": "raised-reader",
   "metadata": {},
   "outputs": [],
   "source": [
    "X, y = make_classification()\n",
    "model = GridSearchCV(\n",
    "    LogisticRegression(solver=\"liblinear\"),\n",
    "    {\"C\": [0.01, 0.1, 1.0], \"penalty\": [\"l1\", \"l2\"]},\n",
    ")\n",
    "scores = cross_validate(model, X, y)\n",
    "print(scores)"
   ]
  },
  {
   "cell_type": "markdown",
   "id": "specified-rebate",
   "metadata": {},
   "source": [
    "display the grid of hyperparameters"
   ]
  },
  {
   "cell_type": "code",
   "execution_count": null,
   "id": "protected-worthy",
   "metadata": {},
   "outputs": [],
   "source": [
    "fig, ax = plt.subplots(figsize=(4, 4))\n",
    "a, b = np.mgrid[:3, :2]\n",
    "plt.scatter(a.ravel(), b.ravel())\n",
    "ax.set_xticks([0, 1, 2])\n",
    "ax.set_xticklabels([0.01, 0.1, 1.0])\n",
    "ax.set_yticks([0, 1])\n",
    "ax.set_yticklabels([\"l1\", \"l2\"])\n",
    "ax.set_xlabel(\"Hyperparam: C\")\n",
    "ax.set_ylabel(\"Hyperparam: 'penalty'\")\n",
    "ax.set_ylim(-1, 2)\n",
    "fig.savefig(\"grid.pdf\", bbox_inches=\"tight\")\n",
    "plt.show()"
   ]
  }
 ],
 "metadata": {
  "jupytext": {
   "cell_metadata_filter": "-all",
   "main_language": "python",
   "notebook_metadata_filter": "-all"
  }
 },
 "nbformat": 4,
 "nbformat_minor": 5
}
