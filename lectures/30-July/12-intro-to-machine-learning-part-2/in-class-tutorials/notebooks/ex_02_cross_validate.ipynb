{
 "cells": [
  {
   "cell_type": "code",
   "execution_count": null,
   "id": "stable-catholic",
   "metadata": {},
   "outputs": [],
   "source": [
    "from sklearn.datasets import make_regression\n",
    "from sklearn.linear_model import Ridge"
   ]
  },
  {
   "cell_type": "code",
   "execution_count": null,
   "id": "fossil-intersection",
   "metadata": {},
   "outputs": [],
   "source": [
    "X, y = make_regression(noise=10)\n",
    "model = Ridge()"
   ]
  },
  {
   "cell_type": "code",
   "execution_count": null,
   "id": "breeding-motion",
   "metadata": {},
   "outputs": [],
   "source": [
    "# TODO: using an appropriate function from scikit-learn, compute\n",
    "# cross-validation scores for a ridge regression on this dataset. What\n",
    "# cross-validation strategy is used? what do the scores represent -- what\n",
    "# performance metric is used?\n",
    "# What is a good choice for k?\n",
    "scores = \"???\"\n",
    "print(scores)"
   ]
  }
 ],
 "metadata": {
  "jupytext": {
   "cell_metadata_filter": "-all",
   "main_language": "python",
   "notebook_metadata_filter": "-all"
  }
 },
 "nbformat": 4,
 "nbformat_minor": 5
}
