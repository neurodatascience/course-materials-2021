{
 "cells": [
  {
   "cell_type": "code",
   "execution_count": null,
   "id": "blind-sharing",
   "metadata": {},
   "outputs": [],
   "source": [
    "from sklearn.datasets import make_regression\n",
    "from sklearn.linear_model import Ridge\n",
    "from sklearn.feature_selection import SelectKBest, f_regression\n",
    "from sklearn.model_selection import cross_validate\n",
    "from sklearn.pipeline import make_pipeline\n",
    "from matplotlib import pyplot as plt"
   ]
  },
  {
   "cell_type": "code",
   "execution_count": null,
   "id": "destroyed-abuse",
   "metadata": {
    "lines_to_next_cell": 2
   },
   "outputs": [],
   "source": [
    "all_differences = []\n",
    "for seed in range(100):\n",
    "    X, y = make_regression(noise=10, n_features=1000, random_state=seed)\n",
    "\n",
    "    X_reduced = SelectKBest(f_regression).fit_transform(X, y)\n",
    "    overfit = cross_validate(Ridge(), X_reduced, y)[\"test_score\"].mean()\n",
    "\n",
    "    model = make_pipeline(SelectKBest(f_regression), Ridge())\n",
    "    pipe = cross_validate(model, X, y)[\"test_score\"].mean()\n",
    "    all_differences.append(overfit - pipe)"
   ]
  },
  {
   "cell_type": "code",
   "execution_count": null,
   "id": "proper-disability",
   "metadata": {},
   "outputs": [],
   "source": [
    "plt.boxplot(\n",
    "    all_differences,\n",
    "    vert=False,\n",
    ")\n",
    "plt.gca().set_xlabel(\n",
    "    \"overfit score - correct score (averaged over 100 simulations)\"\n",
    ")\n",
    "plt.tight_layout()\n",
    "plt.show()"
   ]
  }
 ],
 "metadata": {
  "jupytext": {
   "cell_metadata_filter": "-all",
   "main_language": "python",
   "notebook_metadata_filter": "-all"
  }
 },
 "nbformat": 4,
 "nbformat_minor": 5
}
