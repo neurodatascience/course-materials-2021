{
 "cells": [
  {
   "cell_type": "code",
   "execution_count": null,
   "id": "hydraulic-noise",
   "metadata": {},
   "outputs": [],
   "source": [
    "from sklearn.datasets import make_regression\n",
    "from sklearn.linear_model import Ridge\n",
    "from sklearn.feature_selection import SelectKBest, f_regression\n",
    "from sklearn.model_selection import cross_validate\n",
    "from sklearn.pipeline import make_pipeline\n",
    "from matplotlib import pyplot as plt"
   ]
  },
  {
   "cell_type": "code",
   "execution_count": null,
   "id": "special-grace",
   "metadata": {},
   "outputs": [],
   "source": [
    "X, y = make_regression(noise=10, n_features=5000, random_state=0)"
   ]
  },
  {
   "cell_type": "markdown",
   "id": "failing-identity",
   "metadata": {},
   "source": [
    "Question: what is the issue with the code below?"
   ]
  },
  {
   "cell_type": "code",
   "execution_count": null,
   "id": "pregnant-samuel",
   "metadata": {},
   "outputs": [],
   "source": [
    "X_reduced = SelectKBest(f_regression).fit_transform(X, y)\n",
    "scores = cross_validate(Ridge(), X_reduced, y)[\"test_score\"]\n",
    "print(\"feature selection in 'preprocessing':\", scores)"
   ]
  },
  {
   "cell_type": "markdown",
   "id": "active-quick",
   "metadata": {},
   "source": [
    "Now fitting the whole pipeline on the training set only"
   ]
  },
  {
   "cell_type": "code",
   "execution_count": null,
   "id": "selected-block",
   "metadata": {},
   "outputs": [],
   "source": [
    "model = make_pipeline(SelectKBest(f_regression), Ridge())\n",
    "scores_pipe = cross_validate(model, X, y)[\"test_score\"]\n",
    "print(\"feature selection on train set:\", scores_pipe)"
   ]
  },
  {
   "cell_type": "code",
   "execution_count": null,
   "id": "elect-spanish",
   "metadata": {},
   "outputs": [],
   "source": [
    "plt.boxplot(\n",
    "    [scores_pipe, scores],\n",
    "    vert=False,\n",
    "    labels=[\n",
    "        \"feature selection on train set\",\n",
    "        \"feature selection on whole data\",\n",
    "    ],\n",
    ")\n",
    "plt.gca().set_xlabel(\"R² score\")\n",
    "plt.tight_layout()\n",
    "plt.show()"
   ]
  }
 ],
 "metadata": {
  "jupytext": {
   "cell_metadata_filter": "-all",
   "main_language": "python",
   "notebook_metadata_filter": "-all"
  }
 },
 "nbformat": 4,
 "nbformat_minor": 5
}
