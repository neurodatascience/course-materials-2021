{
 "cells": [
  {
   "cell_type": "code",
   "execution_count": null,
   "id": "nearby-foundation",
   "metadata": {},
   "outputs": [],
   "source": [
    "import argparse"
   ]
  },
  {
   "cell_type": "code",
   "execution_count": null,
   "id": "communist-ladder",
   "metadata": {},
   "outputs": [],
   "source": [
    "import numpy as np\n",
    "from sklearn.model_selection import KFold\n",
    "from matplotlib import pyplot as plt\n",
    "from matplotlib import gridspec, colors"
   ]
  },
  {
   "cell_type": "code",
   "execution_count": null,
   "id": "final-actor",
   "metadata": {},
   "outputs": [],
   "source": [
    "EMPTY_COLOR = \"#ffffff\"\n",
    "TRAIN_CMAP = colors.ListedColormap(\n",
    "    [EMPTY_COLOR, colors.TABLEAU_COLORS[\"tab:blue\"]]\n",
    ")\n",
    "TEST_CMAP = colors.ListedColormap(\n",
    "    [EMPTY_COLOR, colors.TABLEAU_COLORS[\"tab:orange\"]]\n",
    ")"
   ]
  },
  {
   "cell_type": "code",
   "execution_count": null,
   "id": "palestinian-introduction",
   "metadata": {},
   "outputs": [],
   "source": [
    "def show_nested_cv(outer_k, inner_k):\n",
    "    n_splits = outer_k * (2 + inner_k * 2)\n",
    "    fig = plt.figure(figsize=(12, n_splits / 3))\n",
    "    outer_splits = KFold(outer_k).split(np.arange(100))\n",
    "    grid = fig.add_gridspec(outer_k, 1, hspace=0.1, wspace=0)\n",
    "    for i, (train, test) in enumerate(outer_splits):\n",
    "        show_outer_fold(i, inner_k, grid, fig, outer_train_idx=train)\n",
    "    return fig"
   ]
  },
  {
   "cell_type": "code",
   "execution_count": null,
   "id": "dangerous-james",
   "metadata": {},
   "outputs": [],
   "source": [
    "def add_box(subplotspec, fig, text=\"\"):\n",
    "    ax = fig.add_subplot(subplotspec)\n",
    "    if text != \"\":\n",
    "        ax.text(\n",
    "            0.5, 0.5, text, ha=\"center\", va=\"center\", transform=ax.transAxes\n",
    "        )\n",
    "    ax.set_xticks([])\n",
    "    ax.set_yticks([])\n",
    "    return ax"
   ]
  },
  {
   "cell_type": "code",
   "execution_count": null,
   "id": "ready-liabilities",
   "metadata": {},
   "outputs": [],
   "source": [
    "def show_outer_fold(fold_idx, inner_k, outer_grid, fig, outer_train_idx):\n",
    "    fold_grid = gridspec.GridSpecFromSubplotSpec(\n",
    "        2,\n",
    "        7,\n",
    "        outer_grid[fold_idx, :],\n",
    "        wspace=0,\n",
    "        hspace=0,\n",
    "        height_ratios=[2 * inner_k + 1, 1],\n",
    "    )\n",
    "    add_box(fold_grid[:, 0], fig, f\"Fold {fold_idx}\")\n",
    "    add_box(fold_grid[0, 1], fig, \"Train\")\n",
    "    add_box(fold_grid[1, 1:-2], fig, \"Test\")\n",
    "    test_ax = add_box(fold_grid[-1, -2], fig)\n",
    "    train_mask = np.zeros((1, 100), dtype=int)\n",
    "    train_mask[:, outer_train_idx] = 1\n",
    "    test_ax.imshow(~train_mask, aspect=\"auto\", cmap=TEST_CMAP)\n",
    "    score_ax = fig.add_subplot(fold_grid[-1, -1])\n",
    "    score_ax.text(\n",
    "        0.1,\n",
    "        0.5,\n",
    "        f\"Score {fold_idx}\",\n",
    "        ha=\"left\",\n",
    "        va=\"center\",\n",
    "        transform=score_ax.transAxes,\n",
    "    )\n",
    "    score_ax.axis(\"off\")\n",
    "    show_inner_cv(\n",
    "        fold_idx,\n",
    "        fold_grid,\n",
    "        fig,\n",
    "        inner_k=inner_k,\n",
    "        outer_train_idx=outer_train_idx,\n",
    "    )"
   ]
  },
  {
   "cell_type": "code",
   "execution_count": null,
   "id": "coordinate-sector",
   "metadata": {},
   "outputs": [],
   "source": [
    "def show_inner_cv(fold_idx, fold_grid, fig, inner_k, outer_train_idx):\n",
    "    nested_cv_grid = gridspec.GridSpecFromSubplotSpec(\n",
    "        (inner_k * 2) + 1, 4, fold_grid[:-1, 2:-1], wspace=0, hspace=0\n",
    "    )\n",
    "    for i in range(inner_k):\n",
    "        add_box(nested_cv_grid[2 * i : 2 * i + 2, 0], fig, f\"Fold {i}\")\n",
    "        add_box(nested_cv_grid[2 * i, 1], fig, \"Train\")\n",
    "        add_box(nested_cv_grid[2 * i + 1, 1], fig, \"Test\")\n",
    "        add_box(nested_cv_grid[2 * i, 2], fig, \"For all λ\")\n",
    "        add_box(nested_cv_grid[2 * i + 1, 2], fig, \"For all λ\")\n",
    "    add_box(nested_cv_grid[-1, :2], fig, \"Refit\")\n",
    "    add_box(nested_cv_grid[-1, 2], fig, \"For best λ\")\n",
    "    show_inner_splits(inner_k, nested_cv_grid, fig, outer_train_idx)"
   ]
  },
  {
   "cell_type": "code",
   "execution_count": null,
   "id": "downtown-surname",
   "metadata": {},
   "outputs": [],
   "source": [
    "def show_inner_splits(inner_k, nested_cv_grid, fig, outer_train_idx):\n",
    "    mask = np.zeros((1, 100), dtype=int)\n",
    "    inner_splits = KFold(inner_k).split(outer_train_idx)\n",
    "    for i, (train, test) in enumerate(inner_splits):\n",
    "        mask[:] = 0\n",
    "        mask[:, outer_train_idx[train]] = 1\n",
    "        train_ax = add_box(nested_cv_grid[2 * i, -1], fig)\n",
    "        train_ax.imshow(mask, aspect=\"auto\", cmap=TRAIN_CMAP)\n",
    "        mask[:] = 0\n",
    "        mask[:, outer_train_idx[test]] = 1\n",
    "        test_ax = add_box(nested_cv_grid[2 * i + 1, -1], fig)\n",
    "        test_ax.imshow(mask, aspect=\"auto\", cmap=TEST_CMAP)\n",
    "    refit_ax = add_box(nested_cv_grid[-1, -1], fig)\n",
    "    mask[:] = 0\n",
    "    mask[:, outer_train_idx] = 1\n",
    "    refit_ax.imshow(mask, aspect=\"auto\", cmap=TRAIN_CMAP)"
   ]
  },
  {
   "cell_type": "code",
   "execution_count": null,
   "id": "promising-conducting",
   "metadata": {},
   "outputs": [],
   "source": [
    "def show_simple_cv(k):\n",
    "    fig = plt.figure(figsize=(6, k))\n",
    "    splits = KFold(k).split(np.arange(100))\n",
    "    grid = fig.add_gridspec(2 * k, 4, hspace=0, wspace=0)\n",
    "    for i, (train, test) in enumerate(splits):\n",
    "        add_box(grid[2 * i : 2 * i + 2, 0], fig, f\"Fold {i}\")\n",
    "        add_box(grid[2 * i, 1], fig, \"Train\")\n",
    "        add_box(grid[2 * i + 1, 1], fig, \"Test\")\n",
    "        train_mask = np.zeros((1, 100), dtype=int)\n",
    "        train_mask[:, train] = 1\n",
    "        train_ax = add_box(grid[2 * i, 2], fig)\n",
    "        train_ax.imshow(train_mask, aspect=\"auto\", cmap=TRAIN_CMAP)\n",
    "        test_ax = add_box(grid[2 * i + 1, 2], fig)\n",
    "        test_ax.imshow(~train_mask, aspect=\"auto\", cmap=TEST_CMAP)\n",
    "        score_ax = fig.add_subplot(grid[2 * i + 1, -1])\n",
    "        score_ax.text(\n",
    "            0.1,\n",
    "            0.5,\n",
    "            f\"Score {i}\",\n",
    "            ha=\"left\",\n",
    "            va=\"center\",\n",
    "            transform=score_ax.transAxes,\n",
    "        )\n",
    "        score_ax.axis(\"off\")\n",
    "    return fig"
   ]
  },
  {
   "cell_type": "code",
   "execution_count": null,
   "id": "hairy-juice",
   "metadata": {},
   "outputs": [],
   "source": [
    "if __name__ == \"__main__\":\n",
    "    parser = argparse.ArgumentParser()\n",
    "    parser.add_argument(\"output_file\", type=str, default=None)\n",
    "    parser.add_argument(\n",
    "        \"--outer_k\", type=int, default=5, help=\"Number of folds in outer loop\"\n",
    "    )\n",
    "    parser.add_argument(\n",
    "        \"--inner_k\",\n",
    "        type=int,\n",
    "        default=3,\n",
    "        help=\"Number of folds in inner loop \"\n",
    "        \"(used for hyperparameter selection)\",\n",
    "    )\n",
    "    parser.add_argument(\n",
    "        \"--simple\",\n",
    "        action=\"store_true\",\n",
    "        help=\"Show simple K-fold (without grid search)\",\n",
    "    )\n",
    "    args = parser.parse_args()\n",
    "    if args.simple:\n",
    "        fig = show_simple_cv(args.outer_k)\n",
    "    else:\n",
    "        fig = show_nested_cv(args.outer_k, args.inner_k)\n",
    "    fig.savefig(args.output_file, bbox_inches=\"tight\")"
   ]
  }
 ],
 "metadata": {
  "jupytext": {
   "cell_metadata_filter": "-all",
   "main_language": "python",
   "notebook_metadata_filter": "-all"
  }
 },
 "nbformat": 4,
 "nbformat_minor": 5
}
