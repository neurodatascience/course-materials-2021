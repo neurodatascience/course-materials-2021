{
 "cells": [
  {
   "cell_type": "code",
   "execution_count": null,
   "id": "domestic-calgary",
   "metadata": {},
   "outputs": [],
   "source": [
    "from nilearn import datasets\n",
    "from nilearn.connectome import ConnectivityMeasure"
   ]
  },
  {
   "cell_type": "code",
   "execution_count": null,
   "id": "vanilla-digest",
   "metadata": {},
   "outputs": [],
   "source": [
    "from sklearn.preprocessing import LabelEncoder\n",
    "from sklearn.model_selection import cross_validate\n",
    "from sklearn.pipeline import make_pipeline\n",
    "from sklearn.linear_model import LogisticRegression\n",
    "from sklearn.metrics import accuracy_score"
   ]
  },
  {
   "cell_type": "code",
   "execution_count": null,
   "id": "useful-notification",
   "metadata": {},
   "outputs": [],
   "source": [
    "from matplotlib import pyplot as plt\n",
    "import pandas as pd\n",
    "import seaborn as sns"
   ]
  },
  {
   "cell_type": "code",
   "execution_count": null,
   "id": "broadband-entry",
   "metadata": {},
   "outputs": [],
   "source": [
    "def load_abide_data(n_subjects=100):\n",
    "    data = datasets.fetch_abide_pcp(\n",
    "        n_subjects=n_subjects, derivatives=[\"rois_ho\"]\n",
    "    )\n",
    "    X = data[\"rois_ho\"]\n",
    "    y = LabelEncoder().fit_transform(data[\"phenotypic\"][\"DX_GROUP\"])\n",
    "    return X, y"
   ]
  },
  {
   "cell_type": "code",
   "execution_count": null,
   "id": "fixed-intelligence",
   "metadata": {},
   "outputs": [],
   "source": [
    "model = make_pipeline(\n",
    "    ConnectivityMeasure(\n",
    "        kind=\"correlation\", vectorize=True, discard_diagonal=True\n",
    "    ),\n",
    "    LogisticRegression(C=10),\n",
    ")"
   ]
  },
  {
   "cell_type": "code",
   "execution_count": null,
   "id": "disciplinary-jacob",
   "metadata": {},
   "outputs": [],
   "source": [
    "X, y = load_abide_data()"
   ]
  },
  {
   "cell_type": "code",
   "execution_count": null,
   "id": "atlantic-conditions",
   "metadata": {},
   "outputs": [],
   "source": [
    "model.fit(X, y)\n",
    "predictions = model.predict(X)\n",
    "score = accuracy_score(y, predictions)\n",
    "print(f\"\\n\\nPrediction accuracy: {score}\")"
   ]
  },
  {
   "cell_type": "code",
   "execution_count": null,
   "id": "annual-treatment",
   "metadata": {},
   "outputs": [],
   "source": [
    "scores = pd.DataFrame(cross_validate(model, X, y, return_train_score=True))\n",
    "scores = scores.loc[:, [\"train_score\", \"test_score\"]].stack().reset_index()\n",
    "scores.columns = [\"split\", \"data\", \"score\"]"
   ]
  },
  {
   "cell_type": "code",
   "execution_count": null,
   "id": "advanced-belize",
   "metadata": {},
   "outputs": [],
   "source": [
    "sns.stripplot(data=scores, x=\"score\", y=\"data\")\n",
    "plt.gca().set_xlabel(\"\")\n",
    "plt.gca().set_ylabel(\"\")\n",
    "plt.gca().set_title(\"Classification accuracy\")\n",
    "plt.tight_layout()\n",
    "plt.show()"
   ]
  }
 ],
 "metadata": {
  "jupytext": {
   "cell_metadata_filter": "-all",
   "main_language": "python",
   "notebook_metadata_filter": "-all"
  }
 },
 "nbformat": 4,
 "nbformat_minor": 5
}
